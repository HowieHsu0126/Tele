{
 "cells": [
  {
   "cell_type": "markdown",
   "metadata": {},
   "source": [
    "# 基线开发\n",
    "\n",
    "> 徐皓玮\n"
   ]
  },
  {
   "cell_type": "markdown",
   "metadata": {},
   "source": [
    "## 数据加载"
   ]
  },
  {
   "cell_type": "code",
   "execution_count": 3,
   "metadata": {},
   "outputs": [],
   "source": [
    "import pandas as pd\n",
    "import numpy as np\n",
    "from sklearn.model_selection import train_test_split\n",
    "from sklearn.preprocessing import StandardScaler, LabelEncoder\n",
    "from sklearn.ensemble import RandomForestClassifier\n",
    "from sklearn.metrics import f1_score\n",
    "# import xgboost as xgb\n",
    "from imblearn.over_sampling import SMOTE\n"
   ]
  },
  {
   "cell_type": "code",
   "execution_count": 23,
   "metadata": {},
   "outputs": [
    {
     "data": {
      "text/html": [
       "<div>\n",
       "<style scoped>\n",
       "    .dataframe tbody tr th:only-of-type {\n",
       "        vertical-align: middle;\n",
       "    }\n",
       "\n",
       "    .dataframe tbody tr th {\n",
       "        vertical-align: top;\n",
       "    }\n",
       "\n",
       "    .dataframe thead th {\n",
       "        text-align: right;\n",
       "    }\n",
       "</style>\n",
       "<table border=\"1\" class=\"dataframe\">\n",
       "  <thead>\n",
       "    <tr style=\"text-align: right;\">\n",
       "      <th></th>\n",
       "      <th>msisdn</th>\n",
       "      <th>start_time</th>\n",
       "      <th>end_time</th>\n",
       "      <th>call_event</th>\n",
       "      <th>other_party</th>\n",
       "      <th>ismultimedia</th>\n",
       "      <th>home_area_code</th>\n",
       "      <th>visit_area_code</th>\n",
       "      <th>called_home_code</th>\n",
       "      <th>called_code</th>\n",
       "      <th>...</th>\n",
       "      <th>phone1_type</th>\n",
       "      <th>phone2_type</th>\n",
       "      <th>phone1_loc_city</th>\n",
       "      <th>phone1_loc_province</th>\n",
       "      <th>phone2_loc_city</th>\n",
       "      <th>phone2_loc_province</th>\n",
       "      <th>update_time</th>\n",
       "      <th>date</th>\n",
       "      <th>date_c</th>\n",
       "      <th>is_sa</th>\n",
       "    </tr>\n",
       "  </thead>\n",
       "  <tbody>\n",
       "    <tr>\n",
       "      <th>0</th>\n",
       "      <td>1203318</td>\n",
       "      <td>20231223095118</td>\n",
       "      <td>20231223095129</td>\n",
       "      <td>call_dst</td>\n",
       "      <td>1069460</td>\n",
       "      <td>0</td>\n",
       "      <td>351</td>\n",
       "      <td>0351</td>\n",
       "      <td>29.0</td>\n",
       "      <td>029</td>\n",
       "      <td>...</td>\n",
       "      <td>2</td>\n",
       "      <td>9</td>\n",
       "      <td>太原</td>\n",
       "      <td>山西</td>\n",
       "      <td>西安</td>\n",
       "      <td>陕西</td>\n",
       "      <td>2023-12-25 09:30:30</td>\n",
       "      <td>2023-12-23</td>\n",
       "      <td>20240106</td>\n",
       "      <td>0</td>\n",
       "    </tr>\n",
       "    <tr>\n",
       "      <th>1</th>\n",
       "      <td>1203318</td>\n",
       "      <td>20231223135212</td>\n",
       "      <td>20231223135218</td>\n",
       "      <td>call_dst</td>\n",
       "      <td>1251008</td>\n",
       "      <td>0</td>\n",
       "      <td>351</td>\n",
       "      <td>0351</td>\n",
       "      <td>21.0</td>\n",
       "      <td>021</td>\n",
       "      <td>...</td>\n",
       "      <td>2</td>\n",
       "      <td>1</td>\n",
       "      <td>太原</td>\n",
       "      <td>山西</td>\n",
       "      <td>上海</td>\n",
       "      <td>上海</td>\n",
       "      <td>2023-12-25 11:13:03</td>\n",
       "      <td>2023-12-23</td>\n",
       "      <td>20240106</td>\n",
       "      <td>0</td>\n",
       "    </tr>\n",
       "    <tr>\n",
       "      <th>2</th>\n",
       "      <td>1203318</td>\n",
       "      <td>20231224172817</td>\n",
       "      <td>20231224172839</td>\n",
       "      <td>call_dst</td>\n",
       "      <td>1296017</td>\n",
       "      <td>0</td>\n",
       "      <td>351</td>\n",
       "      <td>0351</td>\n",
       "      <td>351.0</td>\n",
       "      <td>0351</td>\n",
       "      <td>...</td>\n",
       "      <td>2</td>\n",
       "      <td>2</td>\n",
       "      <td>太原</td>\n",
       "      <td>山西</td>\n",
       "      <td>太原</td>\n",
       "      <td>山西</td>\n",
       "      <td>2023-12-25 21:46:48</td>\n",
       "      <td>2023-12-24</td>\n",
       "      <td>20240106</td>\n",
       "      <td>0</td>\n",
       "    </tr>\n",
       "    <tr>\n",
       "      <th>3</th>\n",
       "      <td>1203318</td>\n",
       "      <td>20231224191912</td>\n",
       "      <td>20231224192037</td>\n",
       "      <td>call_dst</td>\n",
       "      <td>1139033</td>\n",
       "      <td>0</td>\n",
       "      <td>351</td>\n",
       "      <td>0351</td>\n",
       "      <td>351.0</td>\n",
       "      <td>0351</td>\n",
       "      <td>...</td>\n",
       "      <td>2</td>\n",
       "      <td>2</td>\n",
       "      <td>太原</td>\n",
       "      <td>山西</td>\n",
       "      <td>太原</td>\n",
       "      <td>山西</td>\n",
       "      <td>2023-12-25 22:15:26</td>\n",
       "      <td>2023-12-24</td>\n",
       "      <td>20240106</td>\n",
       "      <td>0</td>\n",
       "    </tr>\n",
       "    <tr>\n",
       "      <th>4</th>\n",
       "      <td>1203318</td>\n",
       "      <td>20231225170350</td>\n",
       "      <td>20231225170358</td>\n",
       "      <td>call_dst</td>\n",
       "      <td>1299672</td>\n",
       "      <td>0</td>\n",
       "      <td>351</td>\n",
       "      <td>0351</td>\n",
       "      <td>351.0</td>\n",
       "      <td>0351</td>\n",
       "      <td>...</td>\n",
       "      <td>2</td>\n",
       "      <td>9</td>\n",
       "      <td>太原</td>\n",
       "      <td>山西</td>\n",
       "      <td>太原</td>\n",
       "      <td>山西</td>\n",
       "      <td>2023-12-26 06:12:35</td>\n",
       "      <td>2023-12-25</td>\n",
       "      <td>20240106</td>\n",
       "      <td>0</td>\n",
       "    </tr>\n",
       "  </tbody>\n",
       "</table>\n",
       "<p>5 rows × 30 columns</p>\n",
       "</div>"
      ],
      "text/plain": [
       "    msisdn      start_time        end_time call_event  other_party  \\\n",
       "0  1203318  20231223095118  20231223095129   call_dst      1069460   \n",
       "1  1203318  20231223135212  20231223135218   call_dst      1251008   \n",
       "2  1203318  20231224172817  20231224172839   call_dst      1296017   \n",
       "3  1203318  20231224191912  20231224192037   call_dst      1139033   \n",
       "4  1203318  20231225170350  20231225170358   call_dst      1299672   \n",
       "\n",
       "   ismultimedia  home_area_code visit_area_code  called_home_code called_code  \\\n",
       "0             0             351            0351              29.0         029   \n",
       "1             0             351            0351              21.0         021   \n",
       "2             0             351            0351             351.0        0351   \n",
       "3             0             351            0351             351.0        0351   \n",
       "4             0             351            0351             351.0        0351   \n",
       "\n",
       "   ...  phone1_type  phone2_type  phone1_loc_city  phone1_loc_province  \\\n",
       "0  ...            2            9               太原                   山西   \n",
       "1  ...            2            1               太原                   山西   \n",
       "2  ...            2            2               太原                   山西   \n",
       "3  ...            2            2               太原                   山西   \n",
       "4  ...            2            9               太原                   山西   \n",
       "\n",
       "   phone2_loc_city  phone2_loc_province          update_time        date  \\\n",
       "0               西安                   陕西  2023-12-25 09:30:30  2023-12-23   \n",
       "1               上海                   上海  2023-12-25 11:13:03  2023-12-23   \n",
       "2               太原                   山西  2023-12-25 21:46:48  2023-12-24   \n",
       "3               太原                   山西  2023-12-25 22:15:26  2023-12-24   \n",
       "4               太原                   山西  2023-12-26 06:12:35  2023-12-25   \n",
       "\n",
       "     date_c  is_sa  \n",
       "0  20240106      0  \n",
       "1  20240106      0  \n",
       "2  20240106      0  \n",
       "3  20240106      0  \n",
       "4  20240106      0  \n",
       "\n",
       "[5 rows x 30 columns]"
      ]
     },
     "execution_count": 23,
     "metadata": {},
     "output_type": "execute_result"
    }
   ],
   "source": [
    "# 加载数据\n",
    "train_res = pd.read_csv('Input/raw/train.csv', low_memory=False)\n",
    "train_ans = pd.read_csv('Input/raw/labels.csv')\n",
    "validation_res = pd.read_csv('Input/raw/val.csv')\n",
    "\n",
    "# 合并训练数据和标签\n",
    "train_data = pd.merge(train_res, train_ans, on='msisdn')\n",
    "\n",
    "# 查看数据的基本信息\n",
    "train_data.head()\n"
   ]
  },
  {
   "cell_type": "markdown",
   "metadata": {},
   "source": [
    "## 数据预处理"
   ]
  },
  {
   "cell_type": "code",
   "execution_count": 24,
   "metadata": {},
   "outputs": [],
   "source": [
    "# 转换时间格式\n",
    "train_data['start_time'] = pd.to_datetime(train_data['start_time'], format='%Y%m%d%H%M%S')\n",
    "train_data['end_time'] = pd.to_datetime(train_data['end_time'], format='%Y%m%d%H%M%S')\n",
    "train_data['open_datetime'] = pd.to_datetime(train_data['open_datetime'], format='%Y%m%d%H%M%S')\n",
    "train_data['update_time'] = pd.to_datetime(train_data['update_time'])\n",
    "train_data['date'] = pd.to_datetime(train_data['date'])\n",
    "train_data['date_c'] = pd.to_datetime(train_data['date_c'], format='%Y%m%d')\n",
    "\n",
    "# 检查并填充缺失值\n",
    "train_data = train_data.fillna(-1)\n"
   ]
  },
  {
   "cell_type": "markdown",
   "metadata": {},
   "source": [
    "## 特征工程"
   ]
  },
  {
   "cell_type": "code",
   "execution_count": 25,
   "metadata": {},
   "outputs": [],
   "source": [
    "# 将混合类型字段转换为字符串类型\n",
    "fields_to_convert = ['visit_area_code', 'called_code', 'phone1_loc_city', 'phone1_loc_province', 'phone2_loc_city', 'phone2_loc_province']\n",
    "for field in fields_to_convert:\n",
    "    train_data[field] = train_data[field].astype(str)\n",
    "\n",
    "# 创建新的时间特征\n",
    "train_data['call_duration_minutes'] = train_data['call_duration'] / 60\n",
    "train_data['start_hour'] = train_data['start_time'].dt.hour\n",
    "train_data['start_dayofweek'] = train_data['start_time'].dt.dayofweek\n",
    "\n",
    "# 类别特征编码\n",
    "categorical_features = ['call_event', 'ismultimedia', 'home_area_code', 'visit_area_code', 'called_home_code', \n",
    "                        'called_code', 'a_serv_type', 'long_type1', 'roam_type', 'a_product_id', 'phone1_type', \n",
    "                        'phone2_type', 'phone1_loc_city', 'phone1_loc_province', 'phone2_loc_city', 'phone2_loc_province']\n",
    "\n",
    "train_data = pd.get_dummies(train_data, columns=categorical_features)"
   ]
  },
  {
   "cell_type": "markdown",
   "metadata": {},
   "source": [
    "## 模型训练和评估"
   ]
  },
  {
   "cell_type": "code",
   "execution_count": 7,
   "metadata": {},
   "outputs": [],
   "source": [
    "# 特征和标签\n",
    "X = train_data.drop(columns=['msisdn', 'is_sa', 'start_time', 'end_time', 'open_datetime', 'update_time', 'date', 'date_c'])\n",
    "y = train_data['is_sa']\n"
   ]
  },
  {
   "cell_type": "code",
   "execution_count": 8,
   "metadata": {},
   "outputs": [],
   "source": [
    "# 划分训练集和测试集用于评估模型\n",
    "X_train, X_test, y_train, y_test = train_test_split(X, y, test_size=0.2, random_state=42)\n"
   ]
  },
  {
   "cell_type": "code",
   "execution_count": 26,
   "metadata": {},
   "outputs": [
    {
     "name": "stdout",
     "output_type": "stream",
     "text": [
      "F1 Score: 0.8833125020030125\n"
     ]
    }
   ],
   "source": [
    "from sklearn.ensemble import RandomForestClassifier\n",
    "from sklearn.metrics import f1_score\n",
    "\n",
    "# 训练随机森林模型\n",
    "model = RandomForestClassifier(n_estimators=100, random_state=42)\n",
    "model.fit(X_train, y_train)\n",
    "\n",
    "# 预测和评估\n",
    "y_pred = model.predict(X_test)\n",
    "print('F1 Score:', f1_score(y_test, y_pred))\n"
   ]
  },
  {
   "cell_type": "markdown",
   "metadata": {},
   "source": [
    "## 在测试集上进行预测"
   ]
  },
  {
   "cell_type": "code",
   "execution_count": 27,
   "metadata": {},
   "outputs": [
    {
     "data": {
      "text/html": [
       "<style>#sk-container-id-2 {color: black;}#sk-container-id-2 pre{padding: 0;}#sk-container-id-2 div.sk-toggleable {background-color: white;}#sk-container-id-2 label.sk-toggleable__label {cursor: pointer;display: block;width: 100%;margin-bottom: 0;padding: 0.3em;box-sizing: border-box;text-align: center;}#sk-container-id-2 label.sk-toggleable__label-arrow:before {content: \"▸\";float: left;margin-right: 0.25em;color: #696969;}#sk-container-id-2 label.sk-toggleable__label-arrow:hover:before {color: black;}#sk-container-id-2 div.sk-estimator:hover label.sk-toggleable__label-arrow:before {color: black;}#sk-container-id-2 div.sk-toggleable__content {max-height: 0;max-width: 0;overflow: hidden;text-align: left;background-color: #f0f8ff;}#sk-container-id-2 div.sk-toggleable__content pre {margin: 0.2em;color: black;border-radius: 0.25em;background-color: #f0f8ff;}#sk-container-id-2 input.sk-toggleable__control:checked~div.sk-toggleable__content {max-height: 200px;max-width: 100%;overflow: auto;}#sk-container-id-2 input.sk-toggleable__control:checked~label.sk-toggleable__label-arrow:before {content: \"▾\";}#sk-container-id-2 div.sk-estimator input.sk-toggleable__control:checked~label.sk-toggleable__label {background-color: #d4ebff;}#sk-container-id-2 div.sk-label input.sk-toggleable__control:checked~label.sk-toggleable__label {background-color: #d4ebff;}#sk-container-id-2 input.sk-hidden--visually {border: 0;clip: rect(1px 1px 1px 1px);clip: rect(1px, 1px, 1px, 1px);height: 1px;margin: -1px;overflow: hidden;padding: 0;position: absolute;width: 1px;}#sk-container-id-2 div.sk-estimator {font-family: monospace;background-color: #f0f8ff;border: 1px dotted black;border-radius: 0.25em;box-sizing: border-box;margin-bottom: 0.5em;}#sk-container-id-2 div.sk-estimator:hover {background-color: #d4ebff;}#sk-container-id-2 div.sk-parallel-item::after {content: \"\";width: 100%;border-bottom: 1px solid gray;flex-grow: 1;}#sk-container-id-2 div.sk-label:hover label.sk-toggleable__label {background-color: #d4ebff;}#sk-container-id-2 div.sk-serial::before {content: \"\";position: absolute;border-left: 1px solid gray;box-sizing: border-box;top: 0;bottom: 0;left: 50%;z-index: 0;}#sk-container-id-2 div.sk-serial {display: flex;flex-direction: column;align-items: center;background-color: white;padding-right: 0.2em;padding-left: 0.2em;position: relative;}#sk-container-id-2 div.sk-item {position: relative;z-index: 1;}#sk-container-id-2 div.sk-parallel {display: flex;align-items: stretch;justify-content: center;background-color: white;position: relative;}#sk-container-id-2 div.sk-item::before, #sk-container-id-2 div.sk-parallel-item::before {content: \"\";position: absolute;border-left: 1px solid gray;box-sizing: border-box;top: 0;bottom: 0;left: 50%;z-index: -1;}#sk-container-id-2 div.sk-parallel-item {display: flex;flex-direction: column;z-index: 1;position: relative;background-color: white;}#sk-container-id-2 div.sk-parallel-item:first-child::after {align-self: flex-end;width: 50%;}#sk-container-id-2 div.sk-parallel-item:last-child::after {align-self: flex-start;width: 50%;}#sk-container-id-2 div.sk-parallel-item:only-child::after {width: 0;}#sk-container-id-2 div.sk-dashed-wrapped {border: 1px dashed gray;margin: 0 0.4em 0.5em 0.4em;box-sizing: border-box;padding-bottom: 0.4em;background-color: white;}#sk-container-id-2 div.sk-label label {font-family: monospace;font-weight: bold;display: inline-block;line-height: 1.2em;}#sk-container-id-2 div.sk-label-container {text-align: center;}#sk-container-id-2 div.sk-container {/* jupyter's `normalize.less` sets `[hidden] { display: none; }` but bootstrap.min.css set `[hidden] { display: none !important; }` so we also need the `!important` here to be able to override the default hidden behavior on the sphinx rendered scikit-learn.org. See: https://github.com/scikit-learn/scikit-learn/issues/21755 */display: inline-block !important;position: relative;}#sk-container-id-2 div.sk-text-repr-fallback {display: none;}</style><div id=\"sk-container-id-2\" class=\"sk-top-container\"><div class=\"sk-text-repr-fallback\"><pre>RandomForestClassifier(random_state=42)</pre><b>In a Jupyter environment, please rerun this cell to show the HTML representation or trust the notebook. <br />On GitHub, the HTML representation is unable to render, please try loading this page with nbviewer.org.</b></div><div class=\"sk-container\" hidden><div class=\"sk-item\"><div class=\"sk-estimator sk-toggleable\"><input class=\"sk-toggleable__control sk-hidden--visually\" id=\"sk-estimator-id-2\" type=\"checkbox\" checked><label for=\"sk-estimator-id-2\" class=\"sk-toggleable__label sk-toggleable__label-arrow\">RandomForestClassifier</label><div class=\"sk-toggleable__content\"><pre>RandomForestClassifier(random_state=42)</pre></div></div></div></div></div>"
      ],
      "text/plain": [
       "RandomForestClassifier(random_state=42)"
      ]
     },
     "execution_count": 27,
     "metadata": {},
     "output_type": "execute_result"
    }
   ],
   "source": [
    "# 使用整个训练集重新训练模型\n",
    "model.fit(X, y)"
   ]
  },
  {
   "cell_type": "code",
   "execution_count": 28,
   "metadata": {},
   "outputs": [],
   "source": [
    "# 预处理验证集数据（同样的步骤）\n",
    "validation_res['start_time'] = pd.to_datetime(validation_res['start_time'], format='%Y%m%d%H%M%S', errors='coerce')\n",
    "validation_res['end_time'] = pd.to_datetime(validation_res['end_time'], format='%Y%m%d%H%M%S', errors='coerce')\n",
    "validation_res['open_datetime'] = pd.to_datetime(validation_res['open_datetime'], format='%Y%m%d%H%M%S', errors='coerce')\n",
    "validation_res['update_time'] = pd.to_datetime(validation_res['update_time'], errors='coerce')\n",
    "validation_res['date'] = pd.to_datetime(validation_res['date'], errors='coerce')\n",
    "validation_res['date_c'] = pd.to_datetime(validation_res['date_c'], format='%Y%m%d', errors='coerce')\n",
    "\n",
    "validation_res['call_duration_minutes'] = validation_res['call_duration'] / 60\n",
    "validation_res['start_hour'] = validation_res['start_time'].dt.hour\n",
    "validation_res['start_dayofweek'] = validation_res['start_time'].dt.dayofweek\n",
    "\n",
    "for field in fields_to_convert:\n",
    "    validation_res[field] = validation_res[field].astype(str)\n",
    "\n",
    "validation_res = pd.get_dummies(validation_res, columns=categorical_features)\n",
    "\n",
    "# 确保训练集和验证集有相同的列\n",
    "X_val = validation_res.reindex(columns=X.columns, fill_value=0)\n"
   ]
  },
  {
   "cell_type": "code",
   "execution_count": 29,
   "metadata": {},
   "outputs": [],
   "source": [
    "# 预测\n",
    "val_pred = model.predict(X_val)\n"
   ]
  },
  {
   "cell_type": "code",
   "execution_count": 30,
   "metadata": {},
   "outputs": [
    {
     "data": {
      "text/plain": [
       "array([218403,  13847])"
      ]
     },
     "execution_count": 30,
     "metadata": {},
     "output_type": "execute_result"
    }
   ],
   "source": [
    "np.bincount(val_pred)"
   ]
  },
  {
   "cell_type": "code",
   "execution_count": 31,
   "metadata": {},
   "outputs": [],
   "source": [
    "# 保存预测结果\n",
    "validation_res['is_sa'] = val_pred\n",
    "validation_res[['msisdn', 'is_sa']].to_csv('Output/submissions/prediction.csv', index=False)"
   ]
  }
 ],
 "metadata": {
  "kernelspec": {
   "display_name": "hwxu",
   "language": "python",
   "name": "python3"
  },
  "language_info": {
   "codemirror_mode": {
    "name": "ipython",
    "version": 3
   },
   "file_extension": ".py",
   "mimetype": "text/x-python",
   "name": "python",
   "nbconvert_exporter": "python",
   "pygments_lexer": "ipython3",
   "version": "3.9.18"
  }
 },
 "nbformat": 4,
 "nbformat_minor": 2
}
